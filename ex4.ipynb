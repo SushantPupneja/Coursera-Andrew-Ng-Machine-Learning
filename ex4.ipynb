{
 "cells": [
  {
   "cell_type": "code",
   "execution_count": 1,
   "metadata": {},
   "outputs": [],
   "source": [
    "import numpy as np\n",
    "import pandas as pd\n",
    "\n",
    "from scipy.io import loadmat\n",
    "from scipy.special import expit\n",
    "from scipy.optimize import minimize\n",
    "\n",
    "from sklearn.preprocessing import OneHotEncoder\n",
    "\n",
    "import matplotlib.pyplot as plt\n",
    "%matplotlib inline"
   ]
  },
  {
   "cell_type": "code",
   "execution_count": 2,
   "metadata": {},
   "outputs": [
    {
     "data": {
      "text/plain": [
       "((5000, 400), (5000, 1), (25, 401), (10, 26))"
      ]
     },
     "execution_count": 2,
     "metadata": {},
     "output_type": "execute_result"
    }
   ],
   "source": [
    "data = loadmat('../input/andrew_ng/ex4data1.mat')\n",
    "weights = loadmat('../input/andrew_ng/ex4weights.mat')\n",
    "\n",
    "X, y = data['X'], data['y']\n",
    "theta1, theta2 = weights['Theta1'], weights['Theta2']\n",
    "\n",
    "X.shape, y.shape, theta1.shape, theta2.shape"
   ]
  },
  {
   "cell_type": "code",
   "execution_count": 3,
   "metadata": {},
   "outputs": [
    {
     "data": {
      "text/plain": [
       "(5000, 10)"
      ]
     },
     "execution_count": 3,
     "metadata": {},
     "output_type": "execute_result"
    }
   ],
   "source": [
    "# there are many ways to encode, I used the pandas's get_dummies\n",
    "y_enc = pd.get_dummies(y.flatten()).values\n",
    "y_enc.shape"
   ]
  },
  {
   "cell_type": "code",
   "execution_count": 4,
   "metadata": {},
   "outputs": [
    {
     "data": {
      "text/plain": [
       "(10285,)"
      ]
     },
     "execution_count": 4,
     "metadata": {},
     "output_type": "execute_result"
    }
   ],
   "source": [
    "l1_size, l2_size, l3_size = 400, 25, 10\n",
    "\n",
    "all_theta = np.concatenate((theta1.ravel(), theta2.ravel())).flatten()\n",
    "all_theta.shape"
   ]
  },
  {
   "cell_type": "code",
   "execution_count": 5,
   "metadata": {},
   "outputs": [],
   "source": [
    "def sigmoid(z):\n",
    "    return expit(z)"
   ]
  },
  {
   "cell_type": "code",
   "execution_count": 6,
   "metadata": {},
   "outputs": [],
   "source": [
    "def sigmoid_gradient(z):\n",
    "    return np.multiply(sigmoid(z), (1-sigmoid(z)))"
   ]
  },
  {
   "cell_type": "code",
   "execution_count": 7,
   "metadata": {},
   "outputs": [],
   "source": [
    "def forward_progagation(X, theta1, theta2):\n",
    "    a1 = np.c_[np.ones((X.shape[0], 1)), X]\n",
    "\n",
    "    z2 = a1.dot(theta1.T)\n",
    "    a2 = sigmoid(z2)\n",
    "    a2 = np.c_[np.ones((a2.shape[0], 1)), a2]\n",
    "\n",
    "    z3 = a2.dot(theta2.T)\n",
    "    a3 = sigmoid(z3)\n",
    "\n",
    "    return a1, z2, a2, z3, a3"
   ]
  },
  {
   "cell_type": "code",
   "execution_count": 8,
   "metadata": {},
   "outputs": [
    {
     "data": {
      "text/plain": [
       "97.52"
      ]
     },
     "execution_count": 8,
     "metadata": {},
     "output_type": "execute_result"
    }
   ],
   "source": [
    "# Accuracy\n",
    "np.mean(np.argmax(forward_progagation(X, theta1, theta2)[-1], axis=1)+1==y.ravel())*100"
   ]
  },
  {
   "cell_type": "code",
   "execution_count": 9,
   "metadata": {},
   "outputs": [
    {
     "data": {
      "text/plain": [
       "0.3844877962428938"
      ]
     },
     "execution_count": 9,
     "metadata": {},
     "output_type": "execute_result"
    }
   ],
   "source": [
    "def cost(all_theta, l1_size, l2_size, l3_size, X, y, reg):    \n",
    "    cost = 0\n",
    "    m = X.shape[0]\n",
    "    theta1 = all_theta[:(l1_size+1)*l2_size].reshape(l2_size, (l1_size+1))\n",
    "    theta2 = all_theta[(l1_size+1)*l2_size:].reshape(l3_size, (l2_size+1))\n",
    "    y = y.ravel().reshape(-1,10)\n",
    "    hx = forward_progagation(X, theta1, theta2)[-1]\n",
    "    \n",
    "    for i in range(m):\n",
    "        a = y[i, :].dot(np.log(hx[i, :]))\n",
    "        b = (1-y[i, :]).dot(np.log((1-hx[i, :])))\n",
    "        cost -= a+b\n",
    "    return cost/m + (reg/(2*m))*(np.sum(np.power(theta1,2)) + np.sum(np.power(theta2,2)))\n",
    "    # comment the regularization part to see result without regularization\n",
    "\n",
    "cost(all_theta, l1_size, l2_size, l3_size, X, y_enc, 1)"
   ]
  },
  {
   "cell_type": "code",
   "execution_count": 10,
   "metadata": {
    "scrolled": true
   },
   "outputs": [
    {
     "data": {
      "text/plain": [
       "array([-8.43553018e-03, -2.11248326e-12,  4.38829369e-13, ...,\n",
       "       -4.95591575e-05,  2.56018236e-04, -2.65504084e-04])"
      ]
     },
     "execution_count": 10,
     "metadata": {},
     "output_type": "execute_result"
    }
   ],
   "source": [
    "def back_propagation(all_theta, l1_size, l2_size, l3_size, X, y, reg):\n",
    "    m = X.shape[0]\n",
    "\n",
    "    theta1 = all_theta[:(l1_size+1)*l2_size].reshape(l2_size, (l1_size+1))\n",
    "    theta2 = all_theta[(l1_size+1)*l2_size:].reshape(l3_size, (l2_size+1))\n",
    "\n",
    "    a1, z2, a2, z3, h = forward_progagation(X, theta1, theta2)\n",
    "    D3 = np.zeros(theta2.shape)  # 10X26\n",
    "    D2 = np.zeros(theta1.shape)  #25X401\n",
    "\n",
    "#     J = cost(all_theta, l1_size, l2_size, l3_size, X, y, 1)\n",
    "\n",
    "    for t in range(m):\n",
    "        yt = h[t] - y[t]  #1X10\n",
    "        d2 = np.multiply(yt.dot(theta2), a2[t])  #1X26\n",
    "\n",
    "        D3 += yt.reshape(1, -1).T.dot(a2[t].reshape(1, -1))\n",
    "        D2 += d2.reshape(1, -1).T[1:].dot(a1[t].reshape(1, -1))\n",
    "    D3 /= m\n",
    "    D2 /= m\n",
    "    D3 = np.concatenate((D3[:, :1], theta2[:, 1:] * (reg/m)), axis=1)\n",
    "    D2 = np.concatenate((D2[:, :1], theta1[:, 1:] * (reg/m)), axis=1)\n",
    "\n",
    "    grad = np.concatenate((np.ravel(D2), np.ravel(D3)), axis=0)\n",
    "#     print(np.unique(grad.flatten()==all_theta.flatten()))\n",
    "    return grad.flatten()\n",
    "\n",
    "back_propagation(all_theta, l1_size, l2_size, l3_size, X, y_enc, 1)"
   ]
  },
  {
   "cell_type": "code",
   "execution_count": 11,
   "metadata": {
    "scrolled": false
   },
   "outputs": [
    {
     "data": {
      "text/plain": [
       "      fun: -0.00843553018040702\n",
       " hess_inv: array([[1, 0, 0, ..., 0, 0, 0],\n",
       "       [0, 1, 0, ..., 0, 0, 0],\n",
       "       [0, 0, 1, ..., 0, 0, 0],\n",
       "       ...,\n",
       "       [0, 0, 0, ..., 1, 0, 0],\n",
       "       [0, 0, 0, ..., 0, 1, 0],\n",
       "       [0, 0, 0, ..., 0, 0, 1]])\n",
       "      jac: -2.1124832621366728e-12\n",
       "  message: 'Optimization terminated successfully.'\n",
       "     nfev: 1\n",
       "      nit: 0\n",
       "     njev: 1\n",
       "   status: 0\n",
       "  success: True\n",
       "        x: array([-2.25623899e-02, -1.05624163e-08,  2.19414684e-09, ...,\n",
       "       -2.47795788e-01,  1.28009118e+00, -1.32752042e+00])"
      ]
     },
     "execution_count": 11,
     "metadata": {},
     "output_type": "execute_result"
    }
   ],
   "source": [
    "optmz = minimize(fun=back_propagation, x0=all_theta.reshape(all_theta.shape[0],1), args=(l1_size, l2_size, l3_size, X, y_enc, 1), jac=True, options={'maxiter': 250})\n",
    "optmz"
   ]
  },
  {
   "cell_type": "code",
   "execution_count": 12,
   "metadata": {
    "scrolled": false
   },
   "outputs": [
    {
     "data": {
      "text/plain": [
       "dict_keys(['status', 'nit', 'nfev', 'message', 'hess_inv', 'success', 'fun', 'x', 'njev', 'jac'])"
      ]
     },
     "execution_count": 12,
     "metadata": {},
     "output_type": "execute_result"
    }
   ],
   "source": [
    "optmz.keys()"
   ]
  },
  {
   "cell_type": "code",
   "execution_count": 13,
   "metadata": {},
   "outputs": [
    {
     "data": {
      "text/plain": [
       "((10285,), ())"
      ]
     },
     "execution_count": 13,
     "metadata": {},
     "output_type": "execute_result"
    }
   ],
   "source": [
    "optmz.x.shape, optmz.jac.shape"
   ]
  },
  {
   "cell_type": "code",
   "execution_count": 14,
   "metadata": {},
   "outputs": [
    {
     "data": {
      "text/plain": [
       "97.52"
      ]
     },
     "execution_count": 14,
     "metadata": {},
     "output_type": "execute_result"
    }
   ],
   "source": [
    "t1 = optmz.x[:(l1_size+1)*l2_size].reshape(l2_size, (l1_size+1))\n",
    "t2 = optmz.x[(l1_size+1)*l2_size:].reshape(l3_size, (l2_size+1))\n",
    "\n",
    "resp = forward_progagation(X, t1, t2)\n",
    "\n",
    "# Accuracy\n",
    "np.mean(np.argmax(forward_progagation(X, t1, t2)[-1], axis=1)+1==y.ravel())*100"
   ]
  },
  {
   "cell_type": "code",
   "execution_count": null,
   "metadata": {},
   "outputs": [],
   "source": []
  }
 ],
 "metadata": {
  "kernelspec": {
   "display_name": "Python 3",
   "language": "python",
   "name": "python3"
  },
  "language_info": {
   "codemirror_mode": {
    "name": "ipython",
    "version": 3
   },
   "file_extension": ".py",
   "mimetype": "text/x-python",
   "name": "python",
   "nbconvert_exporter": "python",
   "pygments_lexer": "ipython3",
   "version": "3.5.2"
  }
 },
 "nbformat": 4,
 "nbformat_minor": 2
}
